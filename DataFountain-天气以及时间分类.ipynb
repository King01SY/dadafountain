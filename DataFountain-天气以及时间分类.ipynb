{
 "cells": [
  {
   "cell_type": "markdown",
   "id": "1f914669",
   "metadata": {},
   "source": [
    "# 数据读取"
   ]
  },
  {
   "cell_type": "code",
   "execution_count": null,
   "id": "a1c7be34",
   "metadata": {},
   "outputs": [],
   "source": [
    "train_json = pd.read_json('train.json')\n",
    "train_json['filename'] = train_json['annotations'].apply(lambda x: x['filename'].replace('\\\\', '/'))\n",
    "train_json['period'] = train_json['annotations'].apply(lambda x: x['period'])\n",
    "train_json['weather'] = train_json['annotations'].apply(lambda x: x['weather'])\n",
    "\n",
    "train_json.head()"
   ]
  },
  {
   "cell_type": "markdown",
   "id": "421179bc",
   "metadata": {},
   "source": [
    "# 标签处理"
   ]
  },
  {
   "cell_type": "code",
   "execution_count": null,
   "id": "152cb2ce",
   "metadata": {},
   "outputs": [],
   "source": [
    "train_json['period'], period_dict = pd.factorize(train_json['period'])\n",
    "train_json['weather'], weather_dict = pd.factorize(train_json['weather'])"
   ]
  },
  {
   "cell_type": "markdown",
   "id": "5fb82ddb",
   "metadata": {},
   "source": [
    "# 统计标签"
   ]
  },
  {
   "cell_type": "code",
   "execution_count": null,
   "id": "078c496c",
   "metadata": {},
   "outputs": [],
   "source": [
    "train_json['period'].value_counts()"
   ]
  },
  {
   "cell_type": "code",
   "execution_count": null,
   "id": "48f37e5b",
   "metadata": {},
   "outputs": [],
   "source": [
    "train_json['weather'].value_counts()"
   ]
  },
  {
   "cell_type": "markdown",
   "id": "2e921435",
   "metadata": {},
   "source": [
    "# 自定义数据集"
   ]
  },
  {
   "cell_type": "code",
   "execution_count": null,
   "id": "cb815b50",
   "metadata": {},
   "outputs": [],
   "source": [
    "class WeatherDataset(Dataset):\n",
    "    def __init__(self, df):\n",
    "        super(WeatherDataset, self).__init__()\n",
    "        self.df = df\n",
    "    \n",
    "        self.transform = T.Compose([\n",
    "            T.Resize(size=(340,340)),\n",
    "            T.RandomCrop(size=(256, 256)),\n",
    "            T.RandomRotation(10),\n",
    "            T.RandomHorizontalFlip(),\n",
    "            T.RandomVerticalFlip(),\n",
    "            T.ToTensor(),\n",
    "            T.Normalize(mean=0.5, std=0.5)\n",
    "        ])\n",
    "\n",
    "    def __getitem__(self, index):\n",
    "        file_name = self.df['filename'].iloc[index]\n",
    "        img = Image.open(file_name)\n",
    "        img = self.transform(img)\n",
    "        return img,\\\n",
    "                paddle.to_tensor(self.df['period'].iloc[index]),\\\n",
    "                paddle.to_tensor(self.df['weather'].iloc[index])\n",
    "\n",
    "    def __len__(self):\n",
    "        return len(self.df)"
   ]
  },
  {
   "cell_type": "code",
   "execution_count": null,
   "id": "2b48a8e5",
   "metadata": {},
   "outputs": [],
   "source": [
    "train_dataset = WeatherDataset(train_json.iloc[:-500])\n",
    "val_dataset = WeatherDataset(train_json.iloc[-500:])\n",
    "\n",
    "train_loader = DataLoader(train_dataset, batch_size=64, shuffle=True)\n",
    "val_loader = DataLoader(val_dataset, batch_size=64, shuffle=True)"
   ]
  },
  {
   "cell_type": "markdown",
   "id": "0cdf4264",
   "metadata": {},
   "source": [
    "# 搭建模型"
   ]
  },
  {
   "cell_type": "code",
   "execution_count": null,
   "id": "42a943d5",
   "metadata": {},
   "outputs": [],
   "source": [
    "from paddle.vision.models import resnet18\n",
    "\n",
    "class WeatherModel(paddle.nn.Layer):\n",
    "    def __init__(self):\n",
    "        super(WeatherModel, self).__init__()\n",
    "        backbone = resnet18(pretrained=True)\n",
    "        backbone.fc = paddle.nn.Identity()\n",
    "        self.backbone = backbone\n",
    "        self.fc1 = paddle.nn.Linear(512, 4)\n",
    "        self.fc2 = paddle.nn.Linear(512, 3)\n",
    "\n",
    "    def forward(self, x):\n",
    "        out = self.backbone(x)\n",
    "        logits1 = self.fc1(out)\n",
    "        logits2 = self.fc2(out)\n",
    "        return logits1, logits2"
   ]
  },
  {
   "cell_type": "code",
   "execution_count": null,
   "id": "003e172f",
   "metadata": {},
   "outputs": [],
   "source": [
    "model = WeatherModel()\n",
    "model(paddle.to_tensor(np.random.rand(10, 3, 256, 256).astype(np.float32)))"
   ]
  },
  {
   "cell_type": "markdown",
   "id": "1121a197",
   "metadata": {},
   "source": [
    "# 训练与验证"
   ]
  },
  {
   "cell_type": "code",
   "execution_count": null,
   "id": "b3c2f747",
   "metadata": {},
   "outputs": [],
   "source": [
    "optimizer = paddle.optimizer.Adam(parameters=model.parameters(), learning_rate=0.0001)\n",
    "criterion = paddle.nn.CrossEntropyLoss()\n",
    "\n",
    "for epoch in range(0, 40):\n",
    "    Train_Loss, Val_Loss = [], []\n",
    "    Train_ACC1, Train_ACC2 = [], []\n",
    "    Val_ACC1, Val_ACC2 = [], []\n",
    "    \n",
    "    model.train()\n",
    "    for i, (x, y1, y2) in enumerate(train_loader):\n",
    "        pred1, pred2 = model(x)\n",
    "        loss = criterion(pred1, y1) + criterion(pred2, y2)\n",
    "        Train_Loss.append(loss.item())\n",
    "        loss.backward()\n",
    "        optimizer.step()\n",
    "        optimizer.clear_grad()\n",
    "\n",
    "        Train_ACC1.append((pred1.argmax(1) == y1.flatten()).numpy().mean())\n",
    "        Train_ACC2.append((pred2.argmax(1) == y2.flatten()).numpy().mean())\n",
    "\n",
    "    model.eval()\n",
    "    for i, (x, y1, y2) in enumerate(val_loader):\n",
    "        pred1, pred2 = model(x)\n",
    "        loss = criterion(pred1, y1) + criterion(pred2, y2)\n",
    "        Val_Loss.append(loss.item())\n",
    "        Val_ACC1.append((pred1.argmax(1) == y1.flatten()).numpy().mean())\n",
    "        Val_ACC2.append((pred2.argmax(1) == y2.flatten()).numpy().mean())\n",
    "\n",
    "    if epoch % 1 == 0:\n",
    "        print(f'\\nEpoch: {epoch}')\n",
    "        print(f'Loss {np.mean(Train_Loss):3.5f}/{np.mean(Val_Loss):3.5f}')\n",
    "        print(f'period.ACC {np.mean(Train_ACC1):3.5f}/{np.mean(Val_ACC1):3.5f}')\n",
    "        print(f'weather.ACC {np.mean(Train_ACC2):3.5f}/{np.mean(Val_ACC2):3.5f}')"
   ]
  },
  {
   "cell_type": "markdown",
   "id": "5da882b7",
   "metadata": {},
   "source": [
    "# 预测与提交"
   ]
  },
  {
   "cell_type": "code",
   "execution_count": null,
   "id": "86b5632c",
   "metadata": {},
   "outputs": [],
   "source": [
    "import glob\n",
    "test_df = pd.DataFrame({'filename': glob.glob('./test_images/*.jpg')})\n",
    "test_df['period'] = 0\n",
    "test_df['weather'] = 0\n",
    "test_df = test_df.sort_values(by='filename')"
   ]
  },
  {
   "cell_type": "code",
   "execution_count": null,
   "id": "99ea963c",
   "metadata": {},
   "outputs": [],
   "source": [
    "test_dataset = WeatherDataset(test_df)\n",
    "test_loader = DataLoader(test_dataset, batch_size=64, shuffle=False)"
   ]
  },
  {
   "cell_type": "code",
   "execution_count": null,
   "id": "3a880b08",
   "metadata": {},
   "outputs": [],
   "source": [
    "model.eval()\n",
    "period_pred = []\n",
    "weather_pred = []\n",
    "for i, (x, y1, y2) in enumerate(test_loader):\n",
    "    pred1, pred2 = model(x)\n",
    "    period_pred += period_dict[pred1.argmax(1).numpy()].tolist()\n",
    "    weather_pred += weather_dict[pred2.argmax(1).numpy()].tolist()\n",
    "\n",
    "test_df['period'] = period_pred\n",
    "test_df['weather'] = weather_pred"
   ]
  },
  {
   "cell_type": "code",
   "execution_count": null,
   "id": "a0581808",
   "metadata": {},
   "outputs": [],
   "source": [
    "submit_json = {\n",
    "    'annotations':[]\n",
    "}\n",
    "\n",
    "for row in test_df.iterrows():\n",
    "    submit_json['annotations'].append({\n",
    "        'filename': 'test_images\\\\' + row[1].filename.split('/')[-1],\n",
    "        'period': row[1].period,\n",
    "        'weather': row[1].weather,\n",
    "    })\n",
    "\n",
    "with open('submit.json', 'w') as up:\n",
    "    json.dump(submit_json, up)"
   ]
  }
 ],
 "metadata": {
  "kernelspec": {
   "display_name": "Python 3",
   "language": "python",
   "name": "python3"
  },
  "language_info": {
   "codemirror_mode": {
    "name": "ipython",
    "version": 3
   },
   "file_extension": ".py",
   "mimetype": "text/x-python",
   "name": "python",
   "nbconvert_exporter": "python",
   "pygments_lexer": "ipython3",
   "version": "3.8.8"
  }
 },
 "nbformat": 4,
 "nbformat_minor": 5
}
